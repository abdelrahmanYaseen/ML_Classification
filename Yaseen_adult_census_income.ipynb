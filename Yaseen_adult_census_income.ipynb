{
 "cells": [
  {
   "cell_type": "markdown",
   "metadata": {},
   "source": [
    "# Adult Census Income "
   ]
  },
  {
   "cell_type": "markdown",
   "metadata": {},
   "source": [
    "## Table of content :\n",
    "1. <a href='#DP'>Data Processing</a>\n",
    "1. <a href='#M'>Modeling</a>\n",
    "1. <a href='#MT'>Models Tuning (By Grid Search)</a>"
   ]
  },
  {
   "cell_type": "markdown",
   "metadata": {},
   "source": [
    "<a id=\"DP\"></a>\n",
    "## Reading & preprocessing "
   ]
  },
  {
   "cell_type": "code",
   "execution_count": 2,
   "metadata": {},
   "outputs": [],
   "source": [
    "#importing the necessary libraries\n",
    "%matplotlib inline  \n",
    "import pandas as pd\n",
    "import numpy as np\n",
    "import matplotlib\n",
    "import matplotlib.pyplot as plt\n",
    "import seaborn as sns #used to plot categorical data\n",
    "from sklearn.feature_selection import RFE\n",
    "import warnings\n",
    "warnings.filterwarnings('ignore')"
   ]
  },
  {
   "cell_type": "code",
   "execution_count": 3,
   "metadata": {},
   "outputs": [],
   "source": [
    "#downloading the data, setting the headers, removing spaces\n",
    "train_data_link = \"https://archive.ics.uci.edu/ml/machine-learning-databases/adult/adult.data\"\n",
    "test_data_link = \"https://archive.ics.uci.edu/ml/machine-learning-databases/adult/adult.test\"\n",
    "train_data_original = pd.read_csv(train_data_link,names=[\"age\",\"workclass\",\"fnlwgt\",\"education\",\"education_num\",\"martial_status\",\"occupation\",\"relationship\",\"race\",\"sex\",\"capital_gain\",\"capital_loss\",\"hours_per_week\",\"native_country\",\"income\"],skipinitialspace=True,na_values='?')\n",
    "test_data_original  = pd.read_csv(test_data_link,names=[\"age\",\"workclass\",\"fnlwgt\",\"education\",\"education_num\",\"martial_status\",\"occupation\",\"relationship\",\"race\",\"sex\",\"capital_gain\",\"capital_loss\",\"hours_per_week\",\"native_country\",\"income\"],skipinitialspace=True,skiprows=1,na_values='?')"
   ]
  },
  {
   "cell_type": "code",
   "execution_count": 5,
   "metadata": {},
   "outputs": [],
   "source": [
    "train_data = train_data_original.copy()\n",
    "test_data = test_data_original.copy()"
   ]
  },
  {
   "cell_type": "markdown",
   "metadata": {},
   "source": [
    "\n",
    "To better understand the data, I'll use the built-in Pandas functions\n",
    "```python\n",
    "    pandas.DataFrame.info\n",
    "    pandas.DataFrame.describe\n",
    "```"
   ]
  },
  {
   "cell_type": "code",
   "execution_count": 6,
   "metadata": {},
   "outputs": [
    {
     "name": "stdout",
     "output_type": "stream",
     "text": [
      "<class 'pandas.core.frame.DataFrame'>\n",
      "RangeIndex: 32561 entries, 0 to 32560\n",
      "Data columns (total 15 columns):\n",
      "age               32561 non-null int64\n",
      "workclass         30725 non-null object\n",
      "fnlwgt            32561 non-null int64\n",
      "education         32561 non-null object\n",
      "education_num     32561 non-null int64\n",
      "martial_status    32561 non-null object\n",
      "occupation        30718 non-null object\n",
      "relationship      32561 non-null object\n",
      "race              32561 non-null object\n",
      "sex               32561 non-null object\n",
      "capital_gain      32561 non-null int64\n",
      "capital_loss      32561 non-null int64\n",
      "hours_per_week    32561 non-null int64\n",
      "native_country    31978 non-null object\n",
      "income            32561 non-null object\n",
      "dtypes: int64(6), object(9)\n",
      "memory usage: 3.7+ MB\n",
      "None\n",
      "                age        fnlwgt  education_num  capital_gain  capital_loss  \\\n",
      "count  32561.000000  3.256100e+04   32561.000000  32561.000000  32561.000000   \n",
      "mean      38.581647  1.897784e+05      10.080679   1077.648844     87.303830   \n",
      "std       13.640433  1.055500e+05       2.572720   7385.292085    402.960219   \n",
      "min       17.000000  1.228500e+04       1.000000      0.000000      0.000000   \n",
      "25%       28.000000  1.178270e+05       9.000000      0.000000      0.000000   \n",
      "50%       37.000000  1.783560e+05      10.000000      0.000000      0.000000   \n",
      "75%       48.000000  2.370510e+05      12.000000      0.000000      0.000000   \n",
      "max       90.000000  1.484705e+06      16.000000  99999.000000   4356.000000   \n",
      "\n",
      "       hours_per_week  \n",
      "count    32561.000000  \n",
      "mean        40.437456  \n",
      "std         12.347429  \n",
      "min          1.000000  \n",
      "25%         40.000000  \n",
      "50%         40.000000  \n",
      "75%         45.000000  \n",
      "max         99.000000  \n"
     ]
    }
   ],
   "source": [
    "print(train_data.info())\n",
    "print(train_data.describe())"
   ]
  },
  {
   "cell_type": "markdown",
   "metadata": {},
   "source": [
    "**Conclusions :**<br>\n",
    "1. The data has both categorical and numerical columns\n",
    "2. Some columns has missing values (workclass, occupation, native country).\n",
    "   I'm planning to replace those values with the most frequent value\n",
    "3. The numirical data needs to be scaled\n",
    "4. The numirical data is complete (there are no mising values)\n",
    "\n",
    "*Using the same commands for the test set results in the same conclusions*"
   ]
  },
  {
   "cell_type": "markdown",
   "metadata": {},
   "source": [
    "<div class=\"alert alert-block alert-info\">\n",
    "Using the same commands for the test set results in the same conclusions"
   ]
  },
  {
   "cell_type": "markdown",
   "metadata": {},
   "source": [
    "To better understand the data, I'll try to visualize both numerical and categorical data.\n",
    "\n",
    "**Numerical Data Visualization :**"
   ]
  },
  {
   "cell_type": "code",
   "execution_count": 7,
   "metadata": {},
   "outputs": [
    {
     "data": {
      "text/plain": [
       "array([[<matplotlib.axes._subplots.AxesSubplot object at 0x7f6a77d275f8>,\n",
       "        <matplotlib.axes._subplots.AxesSubplot object at 0x7f6a771fc860>],\n",
       "       [<matplotlib.axes._subplots.AxesSubplot object at 0x7f6a771a6dd8>,\n",
       "        <matplotlib.axes._subplots.AxesSubplot object at 0x7f6a77154390>],\n",
       "       [<matplotlib.axes._subplots.AxesSubplot object at 0x7f6a7717b908>,\n",
       "        <matplotlib.axes._subplots.AxesSubplot object at 0x7f6a77126e80>]],\n",
       "      dtype=object)"
      ]
     },
     "execution_count": 7,
     "metadata": {},
     "output_type": "execute_result"
    },
    {
     "data": {
      "image/png": "[encoded data removed]",
      "text/plain": [
       "<Figure size 1080x720 with 6 Axes>"
      ]
     },
     "metadata": {},
     "output_type": "display_data"
    }
   ],
   "source": [
    "num_features = train_data.select_dtypes(include=['int64'])\n",
    "num_features.hist(figsize=(15,10))"
   ]
  },
  {
   "cell_type": "markdown",
   "metadata": {},
   "source": [
    "I'll use __countplot__ function from __seaborn__ library to visualize the frequancy between the different classifications of the catergorigcal data verses the income"
   ]
  },
  {
   "cell_type": "code",
   "execution_count": 8,
   "metadata": {},
   "outputs": [
    {
     "data": {
      "text/plain": [
       "<matplotlib.axes._subplots.AxesSubplot at 0x7f6a76ad4710>"
      ]
     },
     "execution_count": 8,
     "metadata": {},
     "output_type": "execute_result"
    },
    {
     "data": {
      "image/png": "[encoded data removed]",
      "text/plain": [
       "<Figure size 432x288 with 1 Axes>"
      ]
     },
     "metadata": {},
     "output_type": "display_data"
    }
   ],
   "source": [
    "cat_features = train_data.select_dtypes(include=['object'])\n",
    "# sns.countplot(y='martial_status', hue='income', data = cat_features)\n",
    "sns.countplot(y='income', hue='occupation', data = cat_features,palette=\"Set1\")"
   ]
  },
  {
   "cell_type": "markdown",
   "metadata": {},
   "source": [
    "#### We need to check the missing values in our data.\n",
    "\n",
    "To check how many missing values in each column, I used the following code:\n",
    "```python\n",
    "train_data.isna().sum()\n",
    "```\n",
    "The results are : "
   ]
  },
  {
   "cell_type": "code",
   "execution_count": 9,
   "metadata": {},
   "outputs": [
    {
     "data": {
      "text/plain": [
       "age                  0\n",
       "workclass         1836\n",
       "fnlwgt               0\n",
       "education            0\n",
       "education_num        0\n",
       "martial_status       0\n",
       "occupation        1843\n",
       "relationship         0\n",
       "race                 0\n",
       "sex                  0\n",
       "capital_gain         0\n",
       "capital_loss         0\n",
       "hours_per_week       0\n",
       "native_country     583\n",
       "income               0\n",
       "dtype: int64"
      ]
     },
     "execution_count": 9,
     "metadata": {},
     "output_type": "execute_result"
    }
   ],
   "source": [
    "train_data.isna().sum()"
   ]
  },
  {
   "cell_type": "markdown",
   "metadata": {},
   "source": [
    "<div class=\"alert alert-block alert-info\">\n",
    "The Test data has missing values in the same columns, too. "
   ]
  },
  {
   "cell_type": "code",
   "execution_count": 10,
   "metadata": {},
   "outputs": [],
   "source": [
    "#preparing the last column for binary classification.\n",
    "train_data.replace('<=50K',0,inplace=True)\n",
    "train_data.replace('>50K',1,inplace=True)\n",
    "\n",
    "test_data.replace('<=50K.',0,inplace=True)\n",
    "test_data.replace('>50K.',1,inplace=True)\n"
   ]
  },
  {
   "cell_type": "markdown",
   "metadata": {},
   "source": [
    "<div class=\"alert alert-block alert-warning\">\n",
    "    Rows with some missing data can't be eliminated, since they make up a considerable proportion of the data. Namely, 7% of the rows of the train/test data include missing values.<br>"
   ]
  },
  {
   "cell_type": "markdown",
   "metadata": {},
   "source": [
    "\\[ The percentage is found using the following line\\]\n",
    "```python\n",
    "100*(train_data.shape[0] - train_data.dropna(how=\"any\").shape[0])/train_data.shape[0]\n",
    "```"
   ]
  },
  {
   "cell_type": "markdown",
   "metadata": {},
   "source": [
    "One way of dealing with missing data is to replace it with the most frequent value.<br>\n",
    "__Replacing NA values with the most frequent value in each column (the mode) :__"
   ]
  },
  {
   "cell_type": "code",
   "execution_count": 11,
   "metadata": {},
   "outputs": [],
   "source": [
    "test_data.fillna(test_data.mode().iloc[0],inplace=True)\n",
    "train_data.fillna(train_data.mode().iloc[0],inplace=True)"
   ]
  },
  {
   "cell_type": "markdown",
   "metadata": {},
   "source": [
    "In the next input, I'm gonna drop 2 columns. `fnlwgt` and `education`<br>\n",
    "The first column is contextually irrelevant, and dropping it has contributed much to the accuracy of the prediction.<br>\n",
    "The information held by the `education` column is already provided in the `education_num` column. so it's redundant."
   ]
  },
  {
   "cell_type": "code",
   "execution_count": 12,
   "metadata": {},
   "outputs": [],
   "source": [
    "train_data.drop(['fnlwgt', 'education'], axis=1, inplace=True)\n",
    "test_data.drop(['fnlwgt', 'education'], axis=1, inplace=True)\n",
    "\n",
    "train_data=train_data[train_data.native_country!='Holand-Netherlands'] # Prevents an error from occuring [I know the reason, and I'll ask about a more professional workaround in the lecture]"
   ]
  },
  {
   "cell_type": "markdown",
   "metadata": {},
   "source": [
    "<a id='id'></a>"
   ]
  },
  {
   "cell_type": "code",
   "execution_count": 13,
   "metadata": {},
   "outputs": [
    {
     "data": {
      "text/plain": [
       "age               0\n",
       "workclass         0\n",
       "education_num     0\n",
       "martial_status    0\n",
       "occupation        0\n",
       "relationship      0\n",
       "race              0\n",
       "sex               0\n",
       "capital_gain      0\n",
       "capital_loss      0\n",
       "hours_per_week    0\n",
       "native_country    0\n",
       "income            0\n",
       "dtype: int64"
      ]
     },
     "execution_count": 13,
     "metadata": {},
     "output_type": "execute_result"
    }
   ],
   "source": [
    "test_data.isna().sum() # Double check"
   ]
  },
  {
   "cell_type": "code",
   "execution_count": 14,
   "metadata": {},
   "outputs": [
    {
     "data": {
      "image/png": "[encoded data removed]",
      "text/plain": [
       "<Figure size 432x288 with 1 Axes>"
      ]
     },
     "metadata": {},
     "output_type": "display_data"
    }
   ],
   "source": [
    "occ_count = train_data['occupation'].value_counts()\n",
    "sns.set(style=\"darkgrid\")\n",
    "sns.barplot(occ_count.values,occ_count.index, alpha=0.9)\n",
    "plt.title('Frequency Distribution of Occupations')\n",
    "plt.xlabel('Number of Occurrences', fontsize=12)\n",
    "plt.ylabel('Occupation', fontsize=12)\n",
    "plt.show()"
   ]
  },
  {
   "cell_type": "code",
   "execution_count": 15,
   "metadata": {},
   "outputs": [
    {
     "data": {
      "image/png": "[encoded data removed]",
      "text/plain": [
       "<Figure size 432x288 with 1 Axes>"
      ]
     },
     "metadata": {},
     "output_type": "display_data"
    }
   ],
   "source": [
    "workclass_count = train_data['workclass'].value_counts()\n",
    "sns.set(style=\"darkgrid\")\n",
    "sns.barplot(workclass_count.values,workclass_count.index, alpha=0.9)\n",
    "plt.title('Frequency Distribution of Occupations')\n",
    "plt.xlabel('Number of Occurrences', fontsize=12)\n",
    "plt.ylabel('workclass', fontsize=12)\n",
    "plt.show()"
   ]
  },
  {
   "cell_type": "code",
   "execution_count": 16,
   "metadata": {},
   "outputs": [],
   "source": [
    "train_data_oneHot=pd.get_dummies(train_data)\n",
    "test_data_oneHot=pd.get_dummies(test_data)"
   ]
  },
  {
   "cell_type": "code",
   "execution_count": 17,
   "metadata": {},
   "outputs": [],
   "source": [
    "x_train = train_data_oneHot.drop('income', axis=1)\n",
    "x_test  = test_data_oneHot.drop('income', axis=1)\n",
    "y_train = train_data_oneHot['income']\n",
    "y_test  = test_data_oneHot['income']"
   ]
  },
  {
   "cell_type": "markdown",
   "metadata": {},
   "source": [
    "#### Normalization"
   ]
  },
  {
   "cell_type": "code",
   "execution_count": 20,
   "metadata": {},
   "outputs": [],
   "source": [
    "from sklearn import preprocessing\n",
    "min_max_scaler = preprocessing.MinMaxScaler()\n",
    "x_train_normalized=  pd.DataFrame(min_max_scaler.fit_transform(x_train))\n",
    "x_test_normalized=  pd.DataFrame(min_max_scaler.fit_transform(x_test))"
   ]
  },
  {
   "cell_type": "markdown",
   "metadata": {},
   "source": [
    "<a id=\"M\"></a>\n",
    "# Modeling"
   ]
  },
  {
   "cell_type": "code",
   "execution_count": 23,
   "metadata": {},
   "outputs": [
    {
     "name": "stdout",
     "output_type": "stream",
     "text": [
      "LR: 0.841093 (0.006172) [CV]\n",
      "LR: 0.846692  [TEST]\n",
      "DT: 0.820700 (0.008117) [CV]\n",
      "DT: 0.823045  [TEST]\n",
      "KNN: 0.849509 (0.005728) [CV]\n",
      "KNN: 0.850746  [TEST]\n"
     ]
    },
    {
     "data": {
      "image/png": "[encoded data removed]",
      "text/plain": [
       "<Figure size 432x288 with 1 Axes>"
      ]
     },
     "metadata": {},
     "output_type": "display_data"
    },
    {
     "data": {
      "image/png": "[encoded data removed]",
      "text/plain": [
       "<Figure size 432x288 with 1 Axes>"
      ]
     },
     "metadata": {},
     "output_type": "display_data"
    }
   ],
   "source": [
    "from sklearn import model_selection\n",
    "from sklearn.linear_model import LogisticRegression\n",
    "from sklearn import tree\n",
    "from sklearn.tree import DecisionTreeClassifier\n",
    "from sklearn.neighbors import KNeighborsClassifier\n",
    "models=[]\n",
    "models.append(('LR', LogisticRegression(solver = 'lbfgs', max_iter=200)))\n",
    "models.append(('DT', tree.DecisionTreeClassifier()))\n",
    "models.append(('KNN', KNeighborsClassifier()))\n",
    "\n",
    "results = []\n",
    "test_results = []\n",
    "names = []\n",
    "scoring = 'accuracy'\n",
    "for name, model in models:\n",
    "    kfold = model_selection.KFold(n_splits=10, random_state=17)\n",
    "    cv_results = model_selection.cross_val_score(model, x_train, y_train, cv=kfold, scoring=scoring)\n",
    "    results.append(cv_results)\n",
    "    names.append(name)\n",
    "    msg1 = \"%s: %f (%f) [CV]\" % (name, cv_results.mean(), cv_results.std())\n",
    "    model.fit(x_train, y_train)\n",
    "    test_score=model.score(x_test,y_test)\n",
    "    test_results.append(test_score)\n",
    "    msg2 = \"%s: %f  [TEST]\" % (name, test_score)\n",
    "    print(msg1)\n",
    "    print(msg2)\n",
    "# boxplot algorithm comparison\n",
    "fig = plt.figure()\n",
    "fig.suptitle('Algorithm Comparison [CV]')\n",
    "ax = fig.add_subplot(111)\n",
    "plt.boxplot(results)\n",
    "ax.set_xticklabels(names)\n",
    "plt.show()\n",
    "\n",
    "objects = names\n",
    "y_pos = np.arange(len(objects))\n",
    "performance = test_results\n",
    " \n",
    "plt.bar(y_pos, performance, align='center', alpha=0.9)\n",
    "plt.xticks(y_pos, objects)\n",
    "plt.ylabel('accuracy')\n",
    "plt.title('Algorithm Comparison [Test]')\n",
    " \n",
    "plt.show()"
   ]
  },
  {
   "cell_type": "markdown",
   "metadata": {},
   "source": [
    "I didn't use the Normalized version of the dataframe because when I tried it, it's showed results with less accuracy as follows : <br>\n",
    "LR: 0.796714 (0.006568) [CV] <br>\n",
    "LR: 0.798661  [TEST]<br>\n",
    "DT: 0.820424 (0.007053) [CV]<br>\n",
    "DT: 0.822001  [TEST]<br>\n",
    "KNN: 0.849509 (0.005728) [CV]<br>\n",
    "KNN: 0.850746  [TEST]<br>"
   ]
  },
  {
   "cell_type": "code",
   "execution_count": 19,
   "metadata": {},
   "outputs": [],
   "source": [
    "from sklearn.svm import SVC\n",
    "rfe = RFE(model, 50)\n",
    "fit = rfe.fit(x_train.values, y_train.values)\n",
    "x_train=rfe.transform(x_train)\n",
    "x_test=rfe.transform(x_test)"
   ]
  },
  {
   "cell_type": "code",
   "execution_count": 20,
   "metadata": {},
   "outputs": [
    {
     "data": {
      "text/plain": [
       "SVC(C=1.0, cache_size=10000, class_weight=None, coef0=0.0,\n",
       "  decision_function_shape='ovr', degree=3, gamma='auto_deprecated',\n",
       "  kernel='linear', max_iter=-1, probability=False, random_state=None,\n",
       "  shrinking=True, tol=0.001, verbose=False)"
      ]
     },
     "execution_count": 20,
     "metadata": {},
     "output_type": "execute_result"
    }
   ],
   "source": [
    "model.fit(x_train,y_train) #Takes a LONG time"
   ]
  },
  {
   "cell_type": "code",
   "execution_count": 35,
   "metadata": {},
   "outputs": [
    {
     "data": {
      "text/plain": [
       "0.8658076285240464"
      ]
     },
     "execution_count": 35,
     "metadata": {},
     "output_type": "execute_result"
    }
   ],
   "source": [
    "model.score(x_test,y_test)"
   ]
  },
  {
   "cell_type": "markdown",
   "metadata": {},
   "source": [
    "<a id=\"MT\"></a>\n",
    "# Grid Search "
   ]
  },
  {
   "cell_type": "markdown",
   "metadata": {},
   "source": [
    "## SVM"
   ]
  },
  {
   "cell_type": "code",
   "execution_count": 27,
   "metadata": {
    "scrolled": true
   },
   "outputs": [
    {
     "name": "stdout",
     "output_type": "stream",
     "text": [
      "Checking C: 1 gamma:  0.01\n",
      "Result : 0.8672071740065107\n",
      "*\n",
      "Checking C: 1 gamma:  0.03\n",
      "Result : 0.8634604754007739\n",
      "Checking C: 1 gamma:  0.1\n",
      "Result : 0.8512376389656655\n",
      "Checking C: 1 gamma:  0.3\n",
      "Result : 0.817148823782323\n",
      "Checking C: 1 gamma:  1\n",
      "Result : 0.7800503654566673\n",
      "Checking C: 1 gamma:  3\n",
      "Result : 0.7715742276272957\n",
      "Checking C: 1 gamma:  10\n",
      "Result : 0.7715742276272957\n",
      "Checking C: 1 gamma:  30\n",
      "Result : 0.7715742276272957\n",
      "Checking C: 1 gamma:  100\n",
      "Result : 0.7715742276272957\n",
      "Checking C: 3 gamma:  0.01\n",
      "Result : 0.8697254468398747\n",
      "*\n",
      "Checking C: 3 gamma:  0.03\n",
      "Result : 0.8614949941649775\n",
      "Checking C: 3 gamma:  0.1\n",
      "Result : 0.8457097229899884\n",
      "Checking C: 3 gamma:  0.3\n",
      "Result : 0.814262023217247\n",
      "Checking C: 3 gamma:  1\n",
      "Result : 0.782445795712794\n",
      "Checking C: 3 gamma:  3\n",
      "Result : 0.7715742276272957\n",
      "Checking C: 3 gamma:  10\n",
      "Result : 0.7715742276272957\n",
      "Checking C: 3 gamma:  30\n",
      "Result : 0.7715742276272957\n",
      "Checking C: 3 gamma:  100\n",
      "Result : 0.7715742276272957\n",
      "Checking C: 10 gamma:  0.01\n",
      "Result : 0.8685584423561207\n",
      "Checking C: 10 gamma:  0.03\n",
      "Result : 0.8583010871568085\n",
      "Checking C: 10 gamma:  0.1\n",
      "Result : 0.8333640439776426\n",
      "Checking C: 10 gamma:  0.3\n",
      "Result : 0.8057858853878754\n",
      "Checking C: 10 gamma:  1\n",
      "Result : 0.7823843744241754\n",
      "Checking C: 10 gamma:  3\n",
      "Result : 0.7715742276272957\n",
      "Checking C: 10 gamma:  10\n",
      "Result : 0.7715742276272957\n",
      "Checking C: 10 gamma:  30\n",
      "Result : 0.7715742276272957\n",
      "Checking C: 10 gamma:  100\n",
      "Result : 0.7715742276272957\n",
      "Checking C: 30 gamma:  0.01\n",
      "Result : 0.8658559056569007\n",
      "Checking C: 30 gamma:  0.03\n",
      "Result : 0.8506234260794792\n",
      "Checking C: 30 gamma:  0.1\n",
      "Result : 0.824212271973466\n",
      "Checking C: 30 gamma:  0.3\n",
      "Result : 0.8027148209569437\n",
      "Checking C: 30 gamma:  1\n",
      "Result : 0.7823843744241754\n",
      "Checking C: 30 gamma:  3\n",
      "Result : 0.7715742276272957\n",
      "Checking C: 30 gamma:  10\n",
      "Result : 0.7715742276272957\n",
      "Checking C: 30 gamma:  30\n",
      "Result : 0.7715742276272957\n",
      "Checking C: 30 gamma:  100\n",
      "Result : 0.7715742276272957\n",
      "Checking C: 100 gamma:  0.01\n",
      "Result : 0.8618021006080707\n",
      "Checking C: 100 gamma:  0.03\n",
      "Result : 0.8418401818070144\n",
      "Checking C: 100 gamma:  0.1\n",
      "Result : 0.8173330876481789\n",
      "Checking C: 100 gamma:  0.3\n",
      "Result : 0.804004668017935\n",
      "Checking C: 100 gamma:  1\n",
      "Result : 0.7825072170014127\n",
      "Checking C: 100 gamma:  3\n",
      "Result : 0.7715742276272957\n",
      "Checking C: 100 gamma:  10\n",
      "Result : 0.7715742276272957\n",
      "Checking C: 100 gamma:  30\n",
      "Result : 0.7715742276272957\n",
      "Checking C: 100 gamma:  100\n",
      "Result : 0.7715742276272957\n"
     ]
    },
    {
     "data": {
      "text/plain": [
       "(0.8697254468398747, {'C': 3, 'gamma': 0.01})"
      ]
     },
     "execution_count": 27,
     "metadata": {},
     "output_type": "execute_result"
    }
   ],
   "source": [
    "#Grid Search\n",
    "C_values = [1, 3, 10, 30, 100]  \n",
    "gamma_values = [0.01, 0.03, 0.1, 0.3, 1, 3, 10, 30, 100]\n",
    "\n",
    "best_score = 0  \n",
    "best_params = {'C': None, 'gamma': None}\n",
    "\n",
    "for C in C_values:  \n",
    "    for gamma in gamma_values:\n",
    "        print(\"Checking C:\",C,  'gamma: ', gamma)\n",
    "        svc = svm.SVC(C=C, gamma=gamma)\n",
    "        svc.fit(x_train, y_train)\n",
    "        score = svc.score(x_test, y_test)\n",
    "        print(\"Result :\", score)\n",
    "        if score > best_score:\n",
    "            best_score = score\n",
    "            best_params['C'] = C\n",
    "            best_params['gamma'] = gamma\n",
    "            print(\"*\") \n",
    "\n",
    "best_score, best_params \n",
    "# takes many hours to execute"
   ]
  },
  {
   "cell_type": "markdown",
   "metadata": {},
   "source": [
    "Out : (0.8697254468398747, {'C': 3, 'gamma': 0.01})"
   ]
  },
  {
   "cell_type": "code",
   "execution_count": null,
   "metadata": {},
   "outputs": [],
   "source": [
    "SVM_best_score=best_score\n",
    "SVM_best_model= SVM()\n",
    "SVM_best_model.set_params(**best_params)"
   ]
  },
  {
   "cell_type": "markdown",
   "metadata": {},
   "source": [
    "## Decision Tree"
   ]
  },
  {
   "cell_type": "code",
   "execution_count": 93,
   "metadata": {},
   "outputs": [
    {
     "data": {
      "text/plain": [
       "GridSearchCV(cv='warn', error_score='raise-deprecating',\n",
       "       estimator=DecisionTreeClassifier(class_weight=None, criterion='gini', max_depth=None,\n",
       "            max_features=None, max_leaf_nodes=None,\n",
       "            min_impurity_decrease=0.0, min_impurity_split=None,\n",
       "            min_samples_leaf=1, min_samples_split=2,\n",
       "            min_weight_fraction_leaf=0.0, presort=False, random_state=None,\n",
       "            splitter='best'),\n",
       "       fit_params=None, iid='warn', n_jobs=None,\n",
       "       param_grid={'min_samples_split': range(10, 500, 20), 'max_depth': range(1, 100, 5)},\n",
       "       pre_dispatch='2*n_jobs', refit=True, return_train_score='warn',\n",
       "       scoring=None, verbose=0)"
      ]
     },
     "execution_count": 93,
     "metadata": {},
     "output_type": "execute_result"
    }
   ],
   "source": [
    "from sklearn.model_selection import GridSearchCV\n",
    "parameters={'min_samples_split' : range(10,500,20),'max_depth': range(1,100,5)}\n",
    "clf_tree=tree.DecisionTreeClassifier()\n",
    "clf_dt=GridSearchCV(clf_tree,parameters)\n",
    "clf_dt.fit(x_train,y_train)"
   ]
  },
  {
   "cell_type": "code",
   "execution_count": 94,
   "metadata": {},
   "outputs": [
    {
     "data": {
      "text/plain": [
       "DecisionTreeClassifier(class_weight=None, criterion='gini', max_depth=86,\n",
       "            max_features=None, max_leaf_nodes=None,\n",
       "            min_impurity_decrease=0.0, min_impurity_split=None,\n",
       "            min_samples_leaf=1, min_samples_split=190,\n",
       "            min_weight_fraction_leaf=0.0, presort=False, random_state=None,\n",
       "            splitter='best')"
      ]
     },
     "execution_count": 94,
     "metadata": {},
     "output_type": "execute_result"
    }
   ],
   "source": [
    "DT_best_score=clf_dt.best_score_\n",
    "DT_best_model= DecisionTreeClassifier()\n",
    "DT_best_model.set_params(**(clf_dt.best_params_))\n",
    "DT_best_model.fit(x_train,y_train)"
   ]
  },
  {
   "cell_type": "markdown",
   "metadata": {},
   "source": [
    "## KNN"
   ]
  },
  {
   "cell_type": "code",
   "execution_count": 101,
   "metadata": {},
   "outputs": [
    {
     "data": {
      "text/plain": [
       "GridSearchCV(cv='warn', error_score='raise-deprecating',\n",
       "       estimator=KNeighborsClassifier(algorithm='auto', leaf_size=30, metric='minkowski',\n",
       "           metric_params=None, n_jobs=None, n_neighbors=5, p=2,\n",
       "           weights='uniform'),\n",
       "       fit_params=None, iid='warn', n_jobs=None,\n",
       "       param_grid={'n_neighbors': [4, 5, 6, 7], 'leaf_size': [1, 3, 5], 'algorithm': ['auto', 'kd_tree'], 'n_jobs': [-1]},\n",
       "       pre_dispatch='2*n_jobs', refit=True, return_train_score='warn',\n",
       "       scoring=None, verbose=0)"
      ]
     },
     "execution_count": 101,
     "metadata": {},
     "output_type": "execute_result"
    }
   ],
   "source": [
    "from sklearn.model_selection import GridSearchCV\n",
    "knn = KNeighborsClassifier()\n",
    "parameters = {'n_neighbors':[4,5,6,7],\n",
    "              'leaf_size':[1,3,5],\n",
    "              'algorithm':['auto', 'kd_tree'],\n",
    "              'n_jobs':[-1]}\n",
    "clf_knn=GridSearchCV(knn,parameters)\n",
    "clf_knn.fit(x_train,y_train)\n"
   ]
  },
  {
   "cell_type": "code",
   "execution_count": 102,
   "metadata": {},
   "outputs": [
    {
     "data": {
      "text/plain": [
       "KNeighborsClassifier(algorithm='auto', leaf_size=1, metric='minkowski',\n",
       "           metric_params=None, n_jobs=-1, n_neighbors=6, p=2,\n",
       "           weights='uniform')"
      ]
     },
     "execution_count": 102,
     "metadata": {},
     "output_type": "execute_result"
    }
   ],
   "source": [
    "KNN_best_score=clf_knn.best_score_\n",
    "KNN_best_model= KNeighborsClassifier()\n",
    "KNN_best_model.get_params().keys()\n",
    "KNN_best_model.set_params(**(clf_knn.best_params_))\n",
    "KNN_best_model.fit(x_train,y_train)\n",
    "#{'algorithm': 'auto', 'leaf_size': 1, 'n_jobs': -1, 'n_neighbors': 6}\n"
   ]
  },
  {
   "cell_type": "markdown",
   "metadata": {},
   "source": [
    "## Logistic Regrission"
   ]
  },
  {
   "cell_type": "code",
   "execution_count": 97,
   "metadata": {
    "scrolled": true
   },
   "outputs": [
    {
     "name": "stdout",
     "output_type": "stream",
     "text": [
      "Fitting 5 folds for each of 20 candidates, totalling 100 fits\n",
      "[CV] C=1.0, penalty=l1 ...............................................\n"
     ]
    },
    {
     "name": "stderr",
     "output_type": "stream",
     "text": [
      "[Parallel(n_jobs=1)]: Using backend SequentialBackend with 1 concurrent workers.\n"
     ]
    },
    {
     "name": "stdout",
     "output_type": "stream",
     "text": [
      "[CV] ................................ C=1.0, penalty=l1, total=   0.5s\n",
      "[CV] C=1.0, penalty=l1 ...............................................\n"
     ]
    },
    {
     "name": "stderr",
     "output_type": "stream",
     "text": [
      "[Parallel(n_jobs=1)]: Done   1 out of   1 | elapsed:    0.5s remaining:    0.0s\n"
     ]
    },
    {
     "name": "stdout",
     "output_type": "stream",
     "text": [
      "[CV] ................................ C=1.0, penalty=l1, total=   0.6s\n",
      "[CV] C=1.0, penalty=l1 ...............................................\n",
      "[CV] ................................ C=1.0, penalty=l1, total=   0.2s\n",
      "[CV] C=1.0, penalty=l1 ...............................................\n",
      "[CV] ................................ C=1.0, penalty=l1, total=   0.6s\n",
      "[CV] C=1.0, penalty=l1 ...............................................\n",
      "[CV] ................................ C=1.0, penalty=l1, total=   0.4s\n",
      "[CV] C=1.0, penalty=l2 ...............................................\n",
      "[CV] ................................ C=1.0, penalty=l2, total=   0.1s\n",
      "[CV] C=1.0, penalty=l2 ...............................................\n",
      "[CV] ................................ C=1.0, penalty=l2, total=   0.1s\n",
      "[CV] C=1.0, penalty=l2 ...............................................\n",
      "[CV] ................................ C=1.0, penalty=l2, total=   0.1s\n",
      "[CV] C=1.0, penalty=l2 ...............................................\n",
      "[CV] ................................ C=1.0, penalty=l2, total=   0.1s\n",
      "[CV] C=1.0, penalty=l2 ...............................................\n",
      "[CV] ................................ C=1.0, penalty=l2, total=   0.1s\n",
      "[CV] C=2.7825594022071245, penalty=l1 ................................\n",
      "[CV] ................. C=2.7825594022071245, penalty=l1, total=   0.1s\n",
      "[CV] C=2.7825594022071245, penalty=l1 ................................\n",
      "[CV] ................. C=2.7825594022071245, penalty=l1, total=   0.2s\n",
      "[CV] C=2.7825594022071245, penalty=l1 ................................\n",
      "[CV] ................. C=2.7825594022071245, penalty=l1, total=   0.5s\n",
      "[CV] C=2.7825594022071245, penalty=l1 ................................\n",
      "[CV] ................. C=2.7825594022071245, penalty=l1, total=   0.4s\n",
      "[CV] C=2.7825594022071245, penalty=l1 ................................\n",
      "[CV] ................. C=2.7825594022071245, penalty=l1, total=   0.3s\n",
      "[CV] C=2.7825594022071245, penalty=l2 ................................\n",
      "[CV] ................. C=2.7825594022071245, penalty=l2, total=   0.1s\n",
      "[CV] C=2.7825594022071245, penalty=l2 ................................\n",
      "[CV] ................. C=2.7825594022071245, penalty=l2, total=   0.1s\n",
      "[CV] C=2.7825594022071245, penalty=l2 ................................\n",
      "[CV] ................. C=2.7825594022071245, penalty=l2, total=   0.1s\n",
      "[CV] C=2.7825594022071245, penalty=l2 ................................\n",
      "[CV] ................. C=2.7825594022071245, penalty=l2, total=   0.1s\n",
      "[CV] C=2.7825594022071245, penalty=l2 ................................\n",
      "[CV] ................. C=2.7825594022071245, penalty=l2, total=   0.1s\n",
      "[CV] C=7.742636826811269, penalty=l1 .................................\n",
      "[CV] .................. C=7.742636826811269, penalty=l1, total=   0.1s\n",
      "[CV] C=7.742636826811269, penalty=l1 .................................\n",
      "[CV] .................. C=7.742636826811269, penalty=l1, total=   0.2s\n",
      "[CV] C=7.742636826811269, penalty=l1 .................................\n",
      "[CV] .................. C=7.742636826811269, penalty=l1, total=   0.2s\n",
      "[CV] C=7.742636826811269, penalty=l1 .................................\n",
      "[CV] .................. C=7.742636826811269, penalty=l1, total=   0.1s\n",
      "[CV] C=7.742636826811269, penalty=l1 .................................\n",
      "[CV] .................. C=7.742636826811269, penalty=l1, total=   0.2s\n",
      "[CV] C=7.742636826811269, penalty=l2 .................................\n",
      "[CV] .................. C=7.742636826811269, penalty=l2, total=   0.1s\n",
      "[CV] C=7.742636826811269, penalty=l2 .................................\n",
      "[CV] .................. C=7.742636826811269, penalty=l2, total=   0.1s\n",
      "[CV] C=7.742636826811269, penalty=l2 .................................\n",
      "[CV] .................. C=7.742636826811269, penalty=l2, total=   0.1s\n",
      "[CV] C=7.742636826811269, penalty=l2 .................................\n",
      "[CV] .................. C=7.742636826811269, penalty=l2, total=   0.1s\n",
      "[CV] C=7.742636826811269, penalty=l2 .................................\n",
      "[CV] .................. C=7.742636826811269, penalty=l2, total=   0.1s\n",
      "[CV] C=21.544346900318832, penalty=l1 ................................\n",
      "[CV] ................. C=21.544346900318832, penalty=l1, total=   0.1s\n",
      "[CV] C=21.544346900318832, penalty=l1 ................................\n",
      "[CV] ................. C=21.544346900318832, penalty=l1, total=   0.1s\n",
      "[CV] C=21.544346900318832, penalty=l1 ................................\n",
      "[CV] ................. C=21.544346900318832, penalty=l1, total=   0.1s\n",
      "[CV] C=21.544346900318832, penalty=l1 ................................\n",
      "[CV] ................. C=21.544346900318832, penalty=l1, total=   0.1s\n",
      "[CV] C=21.544346900318832, penalty=l1 ................................\n",
      "[CV] ................. C=21.544346900318832, penalty=l1, total=   0.1s\n",
      "[CV] C=21.544346900318832, penalty=l2 ................................\n",
      "[CV] ................. C=21.544346900318832, penalty=l2, total=   0.1s\n",
      "[CV] C=21.544346900318832, penalty=l2 ................................\n",
      "[CV] ................. C=21.544346900318832, penalty=l2, total=   0.1s\n",
      "[CV] C=21.544346900318832, penalty=l2 ................................\n",
      "[CV] ................. C=21.544346900318832, penalty=l2, total=   0.1s\n",
      "[CV] C=21.544346900318832, penalty=l2 ................................\n",
      "[CV] ................. C=21.544346900318832, penalty=l2, total=   0.1s\n",
      "[CV] C=21.544346900318832, penalty=l2 ................................\n",
      "[CV] ................. C=21.544346900318832, penalty=l2, total=   0.1s\n",
      "[CV] C=59.94842503189409, penalty=l1 .................................\n",
      "[CV] .................. C=59.94842503189409, penalty=l1, total=   0.1s\n",
      "[CV] C=59.94842503189409, penalty=l1 .................................\n",
      "[CV] .................. C=59.94842503189409, penalty=l1, total=   0.1s\n",
      "[CV] C=59.94842503189409, penalty=l1 .................................\n",
      "[CV] .................. C=59.94842503189409, penalty=l1, total=   0.1s\n",
      "[CV] C=59.94842503189409, penalty=l1 .................................\n",
      "[CV] .................. C=59.94842503189409, penalty=l1, total=   0.1s\n",
      "[CV] C=59.94842503189409, penalty=l1 .................................\n",
      "[CV] .................. C=59.94842503189409, penalty=l1, total=   0.1s\n",
      "[CV] C=59.94842503189409, penalty=l2 .................................\n",
      "[CV] .................. C=59.94842503189409, penalty=l2, total=   0.1s\n",
      "[CV] C=59.94842503189409, penalty=l2 .................................\n",
      "[CV] .................. C=59.94842503189409, penalty=l2, total=   0.1s\n",
      "[CV] C=59.94842503189409, penalty=l2 .................................\n",
      "[CV] .................. C=59.94842503189409, penalty=l2, total=   0.1s\n",
      "[CV] C=59.94842503189409, penalty=l2 .................................\n",
      "[CV] .................. C=59.94842503189409, penalty=l2, total=   0.1s\n",
      "[CV] C=59.94842503189409, penalty=l2 .................................\n",
      "[CV] .................. C=59.94842503189409, penalty=l2, total=   0.1s\n",
      "[CV] C=166.81005372000593, penalty=l1 ................................\n",
      "[CV] ................. C=166.81005372000593, penalty=l1, total=   0.1s\n",
      "[CV] C=166.81005372000593, penalty=l1 ................................\n",
      "[CV] ................. C=166.81005372000593, penalty=l1, total=   0.1s\n",
      "[CV] C=166.81005372000593, penalty=l1 ................................\n",
      "[CV] ................. C=166.81005372000593, penalty=l1, total=   0.1s\n",
      "[CV] C=166.81005372000593, penalty=l1 ................................\n",
      "[CV] ................. C=166.81005372000593, penalty=l1, total=   0.1s\n",
      "[CV] C=166.81005372000593, penalty=l1 ................................\n",
      "[CV] ................. C=166.81005372000593, penalty=l1, total=   0.1s\n",
      "[CV] C=166.81005372000593, penalty=l2 ................................\n",
      "[CV] ................. C=166.81005372000593, penalty=l2, total=   0.1s\n",
      "[CV] C=166.81005372000593, penalty=l2 ................................\n",
      "[CV] ................. C=166.81005372000593, penalty=l2, total=   0.1s\n",
      "[CV] C=166.81005372000593, penalty=l2 ................................\n",
      "[CV] ................. C=166.81005372000593, penalty=l2, total=   0.0s\n",
      "[CV] C=166.81005372000593, penalty=l2 ................................\n",
      "[CV] ................. C=166.81005372000593, penalty=l2, total=   0.1s\n",
      "[CV] C=166.81005372000593, penalty=l2 ................................\n",
      "[CV] ................. C=166.81005372000593, penalty=l2, total=   0.1s\n"
     ]
    },
    {
     "name": "stdout",
     "output_type": "stream",
     "text": [
      "[CV] C=464.15888336127773, penalty=l1 ................................\n",
      "[CV] ................. C=464.15888336127773, penalty=l1, total=   0.1s\n",
      "[CV] C=464.15888336127773, penalty=l1 ................................\n",
      "[CV] ................. C=464.15888336127773, penalty=l1, total=   0.1s\n",
      "[CV] C=464.15888336127773, penalty=l1 ................................\n",
      "[CV] ................. C=464.15888336127773, penalty=l1, total=   0.1s\n",
      "[CV] C=464.15888336127773, penalty=l1 ................................\n",
      "[CV] ................. C=464.15888336127773, penalty=l1, total=   0.1s\n",
      "[CV] C=464.15888336127773, penalty=l1 ................................\n",
      "[CV] ................. C=464.15888336127773, penalty=l1, total=   0.1s\n",
      "[CV] C=464.15888336127773, penalty=l2 ................................\n",
      "[CV] ................. C=464.15888336127773, penalty=l2, total=   0.1s\n",
      "[CV] C=464.15888336127773, penalty=l2 ................................\n",
      "[CV] ................. C=464.15888336127773, penalty=l2, total=   0.1s\n",
      "[CV] C=464.15888336127773, penalty=l2 ................................\n",
      "[CV] ................. C=464.15888336127773, penalty=l2, total=   0.1s\n",
      "[CV] C=464.15888336127773, penalty=l2 ................................\n",
      "[CV] ................. C=464.15888336127773, penalty=l2, total=   0.1s\n",
      "[CV] C=464.15888336127773, penalty=l2 ................................\n",
      "[CV] ................. C=464.15888336127773, penalty=l2, total=   0.1s\n",
      "[CV] C=1291.5496650148827, penalty=l1 ................................\n",
      "[CV] ................. C=1291.5496650148827, penalty=l1, total=   0.1s\n",
      "[CV] C=1291.5496650148827, penalty=l1 ................................\n",
      "[CV] ................. C=1291.5496650148827, penalty=l1, total=   0.1s\n",
      "[CV] C=1291.5496650148827, penalty=l1 ................................\n",
      "[CV] ................. C=1291.5496650148827, penalty=l1, total=   0.1s\n",
      "[CV] C=1291.5496650148827, penalty=l1 ................................\n",
      "[CV] ................. C=1291.5496650148827, penalty=l1, total=   0.1s\n",
      "[CV] C=1291.5496650148827, penalty=l1 ................................\n",
      "[CV] ................. C=1291.5496650148827, penalty=l1, total=   0.1s\n",
      "[CV] C=1291.5496650148827, penalty=l2 ................................\n",
      "[CV] ................. C=1291.5496650148827, penalty=l2, total=   0.1s\n",
      "[CV] C=1291.5496650148827, penalty=l2 ................................\n",
      "[CV] ................. C=1291.5496650148827, penalty=l2, total=   0.1s\n",
      "[CV] C=1291.5496650148827, penalty=l2 ................................\n",
      "[CV] ................. C=1291.5496650148827, penalty=l2, total=   0.0s\n",
      "[CV] C=1291.5496650148827, penalty=l2 ................................\n",
      "[CV] ................. C=1291.5496650148827, penalty=l2, total=   0.1s\n",
      "[CV] C=1291.5496650148827, penalty=l2 ................................\n",
      "[CV] ................. C=1291.5496650148827, penalty=l2, total=   0.1s\n",
      "[CV] C=3593.813663804626, penalty=l1 .................................\n",
      "[CV] .................. C=3593.813663804626, penalty=l1, total=   0.1s\n",
      "[CV] C=3593.813663804626, penalty=l1 .................................\n",
      "[CV] .................. C=3593.813663804626, penalty=l1, total=   0.1s\n",
      "[CV] C=3593.813663804626, penalty=l1 .................................\n",
      "[CV] .................. C=3593.813663804626, penalty=l1, total=   0.1s\n",
      "[CV] C=3593.813663804626, penalty=l1 .................................\n",
      "[CV] .................. C=3593.813663804626, penalty=l1, total=   0.1s\n",
      "[CV] C=3593.813663804626, penalty=l1 .................................\n",
      "[CV] .................. C=3593.813663804626, penalty=l1, total=   0.1s\n",
      "[CV] C=3593.813663804626, penalty=l2 .................................\n",
      "[CV] .................. C=3593.813663804626, penalty=l2, total=   0.1s\n",
      "[CV] C=3593.813663804626, penalty=l2 .................................\n",
      "[CV] .................. C=3593.813663804626, penalty=l2, total=   0.1s\n",
      "[CV] C=3593.813663804626, penalty=l2 .................................\n",
      "[CV] .................. C=3593.813663804626, penalty=l2, total=   0.0s\n",
      "[CV] C=3593.813663804626, penalty=l2 .................................\n",
      "[CV] .................. C=3593.813663804626, penalty=l2, total=   0.1s\n",
      "[CV] C=3593.813663804626, penalty=l2 .................................\n",
      "[CV] .................. C=3593.813663804626, penalty=l2, total=   0.1s\n",
      "[CV] C=10000.0, penalty=l1 ...........................................\n",
      "[CV] ............................ C=10000.0, penalty=l1, total=   0.1s\n",
      "[CV] C=10000.0, penalty=l1 ...........................................\n",
      "[CV] ............................ C=10000.0, penalty=l1, total=   0.1s\n",
      "[CV] C=10000.0, penalty=l1 ...........................................\n",
      "[CV] ............................ C=10000.0, penalty=l1, total=   0.1s\n",
      "[CV] C=10000.0, penalty=l1 ...........................................\n",
      "[CV] ............................ C=10000.0, penalty=l1, total=   0.1s\n",
      "[CV] C=10000.0, penalty=l1 ...........................................\n",
      "[CV] ............................ C=10000.0, penalty=l1, total=   0.1s\n",
      "[CV] C=10000.0, penalty=l2 ...........................................\n",
      "[CV] ............................ C=10000.0, penalty=l2, total=   0.1s\n",
      "[CV] C=10000.0, penalty=l2 ...........................................\n",
      "[CV] ............................ C=10000.0, penalty=l2, total=   0.1s\n",
      "[CV] C=10000.0, penalty=l2 ...........................................\n",
      "[CV] ............................ C=10000.0, penalty=l2, total=   0.1s\n",
      "[CV] C=10000.0, penalty=l2 ...........................................\n",
      "[CV] ............................ C=10000.0, penalty=l2, total=   0.1s\n",
      "[CV] C=10000.0, penalty=l2 ...........................................\n",
      "[CV] ............................ C=10000.0, penalty=l2, total=   0.1s\n"
     ]
    },
    {
     "name": "stderr",
     "output_type": "stream",
     "text": [
      "[Parallel(n_jobs=1)]: Done 100 out of 100 | elapsed:   23.7s finished\n"
     ]
    },
    {
     "data": {
      "text/plain": [
       "GridSearchCV(cv=5, error_score='raise-deprecating',\n",
       "       estimator=LogisticRegression(C=1.0, class_weight=None, dual=False, fit_intercept=True,\n",
       "          intercept_scaling=1, max_iter=100, multi_class='warn',\n",
       "          n_jobs=None, penalty='l2', random_state=None, solver='warn',\n",
       "          tol=0.0001, verbose=0, warm_start=False),\n",
       "       fit_params=None, iid='warn', n_jobs=None,\n",
       "       param_grid={'C': array([1.00000e+00, 2.78256e+00, 7.74264e+00, 2.15443e+01, 5.99484e+01,\n",
       "       1.66810e+02, 4.64159e+02, 1.29155e+03, 3.59381e+03, 1.00000e+04]), 'penalty': ['l1', 'l2']},\n",
       "       pre_dispatch='2*n_jobs', refit=True, return_train_score='warn',\n",
       "       scoring=None, verbose=2)"
      ]
     },
     "execution_count": 97,
     "metadata": {},
     "output_type": "execute_result"
    }
   ],
   "source": [
    "penalty = ['l1', 'l2']\n",
    "C = np.logspace(0, 4, 10)\n",
    "hyperparameters = dict(C=C, penalty=penalty)\n",
    "logistic = LogisticRegression()\n",
    "clf_lr = GridSearchCV(logistic, hyperparameters, cv=5, verbose=2)\n",
    "clf_lr.fit(x_train,y_train)"
   ]
  },
  {
   "cell_type": "code",
   "execution_count": 98,
   "metadata": {},
   "outputs": [
    {
     "data": {
      "text/plain": [
       "LogisticRegression(C=1.0, class_weight=None, dual=False, fit_intercept=True,\n",
       "          intercept_scaling=1, max_iter=100, multi_class='warn',\n",
       "          n_jobs=None, penalty='l1', random_state=None, solver='warn',\n",
       "          tol=0.0001, verbose=0, warm_start=False)"
      ]
     },
     "execution_count": 98,
     "metadata": {},
     "output_type": "execute_result"
    }
   ],
   "source": [
    "LR_best_score=clf_lr.best_score_\n",
    "LR_best_model= LogisticRegression()\n",
    "LR_best_model.set_params(**(clf_lr.best_params_))\n",
    "LR_best_model.fit(x_train,y_train)"
   ]
  },
  {
   "cell_type": "markdown",
   "metadata": {},
   "source": [
    "# Summary"
   ]
  },
  {
   "cell_type": "code",
   "execution_count": 108,
   "metadata": {},
   "outputs": [
    {
     "name": "stdout",
     "output_type": "stream",
     "text": [
      "[Logistic Regresstion] : 0.8513\n",
      "[KNearest Neighbor] : 0.8518\n",
      "[SVM] : 0.8697\n",
      "[Decision Trees] : 0.8570\n"
     ]
    },
    {
     "data": {
      "image/png": "[encoded data removed]",
      "text/plain": [
       "<Figure size 432x288 with 1 Axes>"
      ]
     },
     "metadata": {},
     "output_type": "display_data"
    }
   ],
   "source": [
    "objects = ['Logistic Regresstion','KNearest Neighbor','SVM','Decision Trees']\n",
    "x_pos = np.arange(len(objects))\n",
    "performance = [LR_best_score,KNN_best_score,SVM_best_score,DT_best_score]\n",
    " \n",
    "for (i,j) in zip(objects,performance):\n",
    "    print(\"[%s] : %.4f\" % (i,j))\n",
    "    \n",
    "plt.barh(x_pos, performance, align='center', alpha=0.9)\n",
    "plt.yticks(x_pos, objects)\n",
    "plt.xlabel('accuracy')\n",
    "plt.title('Algorithm Comparison [Train]')\n",
    " \n",
    "plt.show()"
   ]
  },
  {
   "cell_type": "code",
   "execution_count": 107,
   "metadata": {},
   "outputs": [
    {
     "name": "stdout",
     "output_type": "stream",
     "text": [
      "[Logistic Regresstion] : 0.8517\n",
      "[KNearest Neighbor] : 0.8556\n",
      "[SVM] : 0.8625\n",
      "[Decision Trees] : 0.8569\n"
     ]
    },
    {
     "data": {
      "image/png": "[encoded data removed]",
      "text/plain": [
       "<Figure size 432x288 with 1 Axes>"
      ]
     },
     "metadata": {},
     "output_type": "display_data"
    }
   ],
   "source": [
    "objects = ['Logistic Regresstion','KNearest Neighbor','SVM','Decision Trees']\n",
    "x_pos = np.arange(len(objects))\n",
    "performance =[]\n",
    "performance.append(LR_best_model.score(x_test,y_test))\n",
    "performance.append(KNN_best_model.score(x_test,y_test))\n",
    "performance.append(SVM_best_model.score(x_test,y_test))\n",
    "performance.append(DT_best_model.score(x_test,y_test))\n",
    "\n",
    "for (i,j) in zip(objects,performance):\n",
    "    print(\"[%s] : %.4f\" % (i,j))\n",
    "\n",
    "plt.barh(x_pos, performance, align='center', alpha=0.9)\n",
    "plt.yticks(x_pos, objects)\n",
    "plt.xlabel('accuracy')\n",
    "plt.title('Algorithm Comparison [Train]')\n",
    "plt.show()"
   ]
  },
  {
   "cell_type": "markdown",
   "metadata": {},
   "source": [
    "SVM Performs slightly better"
   ]
  },
  {
   "cell_type": "code",
   "execution_count": null,
   "metadata": {},
   "outputs": [],
   "source": []
  }
 ],
 "metadata": {
  "kernelspec": {
   "display_name": "Python 3",
   "language": "python",
   "name": "python3"
  },
  "language_info": {
   "codemirror_mode": {
    "name": "ipython",
    "version": 3
   },
   "file_extension": ".py",
   "mimetype": "text/x-python",
   "name": "python",
   "nbconvert_exporter": "python",
   "pygments_lexer": "ipython3",
   "version": "3.6.8"
  }
 },
 "nbformat": 4,
 "nbformat_minor": 2
}
